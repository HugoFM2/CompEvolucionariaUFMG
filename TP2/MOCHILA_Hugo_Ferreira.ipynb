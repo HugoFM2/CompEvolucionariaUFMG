{
 "cells": [
  {
   "cell_type": "code",
   "execution_count": 1,
   "id": "62ee8dd9",
   "metadata": {},
   "outputs": [],
   "source": [
    "# Importação dos módulos\n",
    "import random, string\n",
    "from matplotlib import pyplot as plt\n",
    "import numpy as np\n",
    "from IPython.display import clear_output"
   ]
  },
  {
   "cell_type": "markdown",
   "id": "8bb439e6",
   "metadata": {},
   "source": [
    "## Questão 2 - Problema da Mochila 0/1"
   ]
  },
  {
   "cell_type": "code",
   "execution_count": 2,
   "id": "e056d0fc",
   "metadata": {},
   "outputs": [],
   "source": [
    "# Valores do enunciado\n",
    "pesos_Objetos =   [10, 18, 12, 14, 13, 11, 8, 6]\n",
    "valores_Objetos = [ 5,  8,  7,  6,  9,  5, 4, 3]\n",
    "capacidade_Mochila = 35\n",
    "rho = max([valor/peso for valor,peso in zip(valores_Objetos,pesos_Objetos)])"
   ]
  },
  {
   "cell_type": "code",
   "execution_count": 3,
   "id": "ad6396b6",
   "metadata": {},
   "outputs": [],
   "source": [
    "class Individuo_Mochila(): # Representa uma possibilidade de pesos*valores na mochila\n",
    "    def __init__(self,genotipo=None):\n",
    "        if genotipo == None:\n",
    "            self.genotipo = [random.randint(0, 1) for i in range(len(pesos_Objetos))]\n",
    "        else:\n",
    "            self.genotipo = genotipo\n",
    "        self.score = self.GetAptidao()\n",
    "      \n",
    "    def GetAptidao(self):\n",
    "        pesoTotal = np.dot(self.genotipo,pesos_Objetos)\n",
    "        beneficioTotal = np.dot(self.genotipo,valores_Objetos)\n",
    "        \n",
    "        penalidade = 0\n",
    "        if pesoTotal > capacidade_Mochila:\n",
    "            penalidade = rho*(pesoTotal-capacidade_Mochila)\n",
    "            \n",
    "        aptidao = beneficioTotal - penalidade\n",
    "        return aptidao\n",
    "        \n",
    "    def Mutate(self,mutationChance):\n",
    "        genotipoPosMutacao = [] #Genotipo apos a mutacao\n",
    "        for objeto_inserido in self.genotipo:\n",
    "            randomico = random.random() # Pega um numero aleatorio entre 0 e 1 (float)\n",
    "            if random.random() <= mutationChance: # Caso ocorra a mutacao  \n",
    "                genotipoPosMutacao.append(abs(objeto_inserido - 1)) # BitFlip\n",
    "            else:\n",
    "                genotipoPosMutacao.append(objeto_inserido)\n",
    "                \n",
    "        self.genotipo = genotipoPosMutacao     \n",
    "        self.GetAptidao() # Atualiza aptidao após mutação"
   ]
  },
  {
   "cell_type": "code",
   "execution_count": 4,
   "id": "736d6448",
   "metadata": {},
   "outputs": [],
   "source": [
    "class AlgoritmoGenetico_Mochila01():\n",
    "    def __init__(self,populacao:int = 20):\n",
    "        self.population = []\n",
    "        self.bestPontuacaoList = []\n",
    "        self.meanPontuacaoList = [] \n",
    "        for i in range (populacao):\n",
    "            self.population.append(Individuo_Mochila())\n",
    "            \n",
    "    def ParentSelector(self): # Roulette-wheel selection\n",
    "        probabilidades = [],[]# lista de 2 dimensoes contendo em [0] -> as probabilidades e [1] - > probab acumulada\n",
    "        aptidaoTotal = sum([individuo.score for individuo in self.population])\n",
    "        probabAcumulada = 0\n",
    "        for individuo in self.population:\n",
    "            probabilidades[0].append(individuo.score/aptidaoTotal)\n",
    "            probabAcumulada += individuo.score/aptidaoTotal\n",
    "            probabilidades[1].append(probabAcumulada)         \n",
    "        parents = []\n",
    "        for i in range(2): # Seleciona 2 pais\n",
    "            roleta = random.random() # numero de 0 a 1\n",
    "            for j,probabAcumulada in enumerate(probabilidades[1]):\n",
    "                if(roleta < probabAcumulada): # se o numero da roleta for menor que o da prob, parar\n",
    "                    parents.append(self.population[j])                       \n",
    "                    break\n",
    "        return parents   \n",
    "\n",
    "            \n",
    "    def CrossOver(self,parents,crossOverChance = 0.7): # Single Point Crossover\n",
    "        if random.random() < crossOverChance:\n",
    "            pai1Genotipo = parents[0].genotipo\n",
    "            pai2Genotipo = parents[1].genotipo \n",
    "            pos = random.randrange(len(pai1Genotipo)) # single point crossover -> Pega a posicao para o corte\n",
    "            filho1Genotipo = pai1Genotipo[:pos] + pai2Genotipo[pos:]\n",
    "            filho2Genotipo = pai2Genotipo[:pos] + pai1Genotipo[pos:]  \n",
    "            filho1 = Individuo_Mochila(filho1Genotipo)\n",
    "            filho2 = Individuo_Mochila(filho2Genotipo)\n",
    "        else: # Caso n ocorra o crossover, os filhos tem as mesmas caracteristicas dos pais\n",
    "            filho1 = parents[0]\n",
    "            filho2 = parents[1]\n",
    "        return [filho1,filho2]\n",
    "    \n",
    "    \n",
    "    def run(self,maxgen=2000,chanceCrossOver=0.8,chanceMutacao=0.03,geracoesIguais=5):\n",
    "        ngen=0\n",
    "        while ngen < maxgen: \n",
    "            ngen +=1\n",
    "            \n",
    "            # Algoritmo evolutivo\n",
    "            novaPopulacao = []\n",
    "            for i in range(int(len(self.population)/2)): # \n",
    "                parents = self.ParentSelector()\n",
    "                filhos = self.CrossOver(parents,crossOverChance=chanceCrossOver)\n",
    "                for filho in filhos:\n",
    "                    filho.Mutate(mutationChance=chanceMutacao)\n",
    "                    novaPopulacao.append(filho) # Adiciona o filho  (depois de muta-lo) à nova populacao   \n",
    "            self.population = novaPopulacao\n",
    "            bestPontuacao = max([individuo.score for individuo in self.population])\n",
    "            \n",
    "            # Avaliacao do Algoritmo\n",
    "            self.bestPontuacaoList.append(bestPontuacao)\n",
    "            clear_output(wait=True) # Limpa o console, para sobrescrever o print abaixo\n",
    "            print(\"Geração Atual:{}/{}         MelhorPontuação:{}\".format(ngen+1,maxgen,bestPontuacao))\n",
    "            melhorGenotipoIndex = [individuo.score for individuo in self.population].index(bestPontuacao)\n",
    "            print(\"Melhor Genotipo[{}]: {}\".format(melhorGenotipoIndex,self.population[melhorGenotipoIndex].genotipo))\n",
    "            #Condicao de Parada\n",
    "            # Checa se as ultimas n geracoes sao iguais e para o algoritmo caso seja -> CONVERGIU\n",
    "            if (len(self.bestPontuacaoList) > geracoesIguais) and (self.bestPontuacaoList[-geracoesIguais:].count(self.bestPontuacaoList[-1]) == geracoesIguais):\n",
    "                print(\"Todas {} geracoes passadas tem o mesmo valor\".format(geracoesIguais))\n",
    "                break\n",
    "        return [ngen,self.bestPontuacaoList]"
   ]
  },
  {
   "cell_type": "code",
   "execution_count": 7,
   "id": "b05d108c",
   "metadata": {},
   "outputs": [
    {
     "name": "stdout",
     "output_type": "stream",
     "text": [
      "Geração Atual:35/300         MelhorPontuação:21\n",
      "Melhor Genotipo[96]: [1, 0, 1, 0, 1, 0, 0, 0]\n",
      "Todas 25 geracoes passadas tem o mesmo valor\n",
      "Média Geraçoes:63.0\n"
     ]
    }
   ],
   "source": [
    "ngens = []\n",
    "for i in range(5):\n",
    "    algoritmo_Mochila01 = AlgoritmoGenetico_Mochila01(200)\n",
    "    [ngen, bestPontuacaoList_Mochila01] = algoritmo_Mochila01.run(maxgen=300,chanceCrossOver=0.7,chanceMutacao=0.05,geracoesIguais=25)\n",
    "    ngens.append(ngen)\n",
    "\n",
    "print(\"Média Geraçoes:{}\".format(np.mean(ngens)))"
   ]
  },
  {
   "cell_type": "code",
   "execution_count": 8,
   "id": "e97e31d6",
   "metadata": {},
   "outputs": [
    {
     "data": {
      "image/png": "[encoded data removed]",
      "text/plain": [
       "<Figure size 1440x540 with 1 Axes>"
      ]
     },
     "metadata": {
      "needs_background": "light"
     },
     "output_type": "display_data"
    }
   ],
   "source": [
    "plt.figure(figsize=(16,6),dpi=90)\n",
    "plt.scatter(range(len(bestPontuacaoList_Mochila01)),bestPontuacaoList_Mochila01)\n",
    "plt.xlabel(\"Gerações para convergência\",fontsize=15)\n",
    "plt.ylabel(\"Aptidão\",fontsize=15)\n",
    "plt.title(\"Desempenho do ultimo algoritmo genético - Problema da Mochila 0/1\")\n",
    "plt.yticks(range(19,23,1))\n",
    "plt.show()"
   ]
  },
  {
   "cell_type": "markdown",
   "id": "5888c2af",
   "metadata": {},
   "source": [
    "### Observações\n",
    "- A condição de término foi tirada do livro \"Introduction to Evolutionary Computing\" em que o algoritmo parava quando não houvesse melhorias na aptidao nas últimas 25 gerações\n",
    "\n",
    "\n",
    "- Foi utilizado todos os métodos anunciados na questão e precisou-se de, em média, **63** gerações para o algoritmo chegar no resultado desejado.\n",
    "\n",
    "\n",
    "- Observou-se que logo no começo do algoritmo, algumas populações ja obtiveram a pontuação ótima, de 21 pontos, dada pelo Genótipo [1,0,1,0,1,0,0,0]. Isto se deve à possibilidade significativa de gerar esse genótipo aleatoriamente, de 1 em 2^8, ou seja 0.39% de chance. \n",
    "    - A cada individuo, há uma possibilidade de 99.61% dele não possuir o genótipo ideal, com isso, em uma população de 200, existe uma chance de 45.77% de nenhum individuo possuir esse genótipo.\n",
    "        - Portanto, em uma população de 200, há uma possibilidade de 54.23% do genótipo ideal ser gerado na primeira geração, como pode ser observado no código abaixo:"
   ]
  },
  {
   "cell_type": "code",
   "execution_count": 9,
   "id": "d3adeb21",
   "metadata": {},
   "outputs": [
    {
     "name": "stdout",
     "output_type": "stream",
     "text": [
      "i Atual: 10000\n",
      "Média Atual: 54.484551544845516\n"
     ]
    }
   ],
   "source": [
    "bestGenotipos = []\n",
    "for i in range(10001):\n",
    "    algoritmo_Mochila01_2 = AlgoritmoGenetico_Mochila01(200)\n",
    "    melhorGenotipo = max([individuo.score for individuo in algoritmo_Mochila01_2.population])\n",
    "    bestGenotipos.append(melhorGenotipo)\n",
    "    if i % 1000 == 0: # Se for divisivel por 1000, para nao imprimir muitas vezes\n",
    "        clear_output(wait=True) # Limpa o console, para sobrescrever o print abaixo \n",
    "        print(\"i Atual: {}\".format(i))\n",
    "        print(\"Média Atual: {}\".format(bestGenotipos.count(21)/len(bestGenotipos)*100))"
   ]
  },
  {
   "cell_type": "markdown",
   "id": "3dd1d5e3",
   "metadata": {},
   "source": [
    "- Foi observado também que o algoritmo não convergia totalmente, isso se deve ao mecanismo geracional e ao operador de seleção proporcional ao fitness + Roleta. \n",
    "    - Como os descendentes foram gerados aleatoriamente a partir de pais com pesos diferentes, existia a possibilidade (ainda que pequena) de uma população inteira ser gerada e mutada e possuir uma aptidão pior que a da geração passada. \n",
    "    - Isso ocorre devido a perda da pressão na seleção, que é quando os valores de fitness são muito proximos. Quando isso acontece, a seleção tende a ter um caráter um pouco aleatório a partir de uma distribuição uniforme.\n",
    "    - Uma possível solução para esse problema seria a utilização da seleção baseada em Ranking."
   ]
  }
 ],
 "metadata": {
  "kernelspec": {
   "display_name": "Python 3",
   "language": "python",
   "name": "python3"
  },
  "language_info": {
   "codemirror_mode": {
    "name": "ipython",
    "version": 3
   },
   "file_extension": ".py",
   "mimetype": "text/x-python",
   "name": "python",
   "nbconvert_exporter": "python",
   "pygments_lexer": "ipython3",
   "version": "3.7.6"
  }
 },
 "nbformat": 4,
 "nbformat_minor": 5
}
